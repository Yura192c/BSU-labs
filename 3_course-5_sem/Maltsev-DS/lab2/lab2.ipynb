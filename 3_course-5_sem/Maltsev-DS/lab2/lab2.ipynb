{
 "cells": [
  {
   "cell_type": "code",
   "execution_count": null,
   "metadata": {},
   "outputs": [],
   "source": [
    "import numpy\n",
    "import pandas as pd\n",
    "import matplotlib.pyplot as plt\n",
    "import numpy as np\n",
    "import seaborn as sns\n",
    "from scipy.stats import norm\n",
    "\n",
    "%matplotlib inline"
   ]
  },
  {
   "cell_type": "code",
   "execution_count": null,
   "metadata": {},
   "outputs": [],
   "source": [
    "data = pd.read_csv('var9.csv', delimiter=';', encoding='latin-1')\n",
    "\n",
    "data.head()\n",
    "# data.columns"
   ]
  },
  {
   "attachments": {},
   "cell_type": "markdown",
   "metadata": {},
   "source": [
    "1. Загрузить четырехмерную выборку из файла «varN.csv», где N – номер\n",
    "варианта (номер в списке группы, упорядоченном по алфавиту). Объем выборки –\n",
    "400 наблюдений. По выборке оценить вектор математического ожидания μ и\n",
    "ковариационную матрицу Σ (можно использовать смещенные оценки). Оценить\n",
    "коэффициенты корреляции между всеми парами переменных."
   ]
  },
  {
   "cell_type": "code",
   "execution_count": null,
   "metadata": {},
   "outputs": [],
   "source": [
    "mean_vector = data.mean()\n",
    "\n",
    "# Вычисление ковариационной матрицы\n",
    "covariance_matrix = data.cov()\n",
    "\n",
    "print(\"Средние значения (mean_vector):\")\n",
    "print(mean_vector)\n",
    "print(\"\\nКовариационная матрица (covariance_matrix):\")\n",
    "print(covariance_matrix)\n",
    "correlation_matrix = data.corr()\n",
    "\n",
    "# Вывод оценок\n",
    "print(\"\\nМатрица коэффициентов корреляции:\")\n",
    "print(correlation_matrix)"
   ]
  },
  {
   "attachments": {},
   "cell_type": "markdown",
   "metadata": {},
   "source": [
    "2. (1 балл). Построить гистограммы для каждой переменной из выборки.\n",
    "Похожи ли гистограммы на плотность распределения нормального закона?"
   ]
  },
  {
   "cell_type": "code",
   "execution_count": null,
   "metadata": {},
   "outputs": [],
   "source": [
    "for column in data.columns:\n",
    "    plt.figure()\n",
    "    sns.histplot(data[column], kde=True)\n",
    "    plt.title(f'Histogram for {column}')\n",
    "    plt.xlabel(column)\n",
    "    plt.ylabel('Frequency')"
   ]
  },
  {
   "attachments": {},
   "cell_type": "markdown",
   "metadata": {},
   "source": [
    "4. (1 балл). Изобразить диаграмму рассеяния первой и второй переменной\n",
    "выборки (по оси x откладывать значения X1, а по оси y – X2 или наоборот)."
   ]
  },
  {
   "cell_type": "code",
   "execution_count": null,
   "metadata": {},
   "outputs": [],
   "source": [
    "# Создайте диаграмму рассеяния\n",
    "plt.scatter(data['x1'], data['x2'])\n",
    "\n",
    "# Добавьте подписи к осям и заголовок\n",
    "plt.xlabel('X1')\n",
    "plt.ylabel('X2')\n",
    "plt.title('Диаграмма рассеяния между X1 и X2')\n",
    "\n",
    "# Покажите диаграмму\n",
    "plt.show()\n"
   ]
  },
  {
   "attachments": {},
   "cell_type": "markdown",
   "metadata": {},
   "source": [
    "5. (1 балл). На том же графике изобразить несколько эллипсов концентрации –\n",
    "малого, среднего и большого радиуса (эллипсоид концентрации для многомерного\n",
    "нормального закона – изолиния, вдоль которой плотность распределения не\n",
    "изменяется). Вместо точных значений математического ожидания и ковариационной\n",
    "матрицы используйте соответствующие оценки."
   ]
  },
  {
   "cell_type": "code",
   "execution_count": null,
   "metadata": {},
   "outputs": [],
   "source": [
    "# Оценки математических ожиданий\n",
    "mean_X1 = data['x1'].mean()\n",
    "mean_X2 = data['x2'].mean()\n",
    "\n",
    "# Оценка ковариационной матрицы\n",
    "cov_matrix = data[['x1', 'x2']].cov()\n",
    "\n",
    "# Собственные значения и собственные векторы ковариационной матрицы\n",
    "eigenvalues, eigenvectors = np.linalg.eig(cov_matrix)\n",
    "\n",
    "# Определение коэффициента для уровня доверия\n",
    "confidence_level = 2.4477  # Значение для уровня доверия 95%\n",
    "\n",
    "# Малый, средний и большой радиусы эллипсов\n",
    "radius_small = confidence_level * np.sqrt(eigenvalues[0])\n",
    "radius_large = confidence_level * np.sqrt(eigenvalues[1])\n",
    "\n",
    "# Создаем фигуру\n",
    "fig, ax = plt.subplots()\n",
    "\n",
    "# Создаем эллипсы концентрации\n",
    "ellipse_small = plt.matplotlib.patches.Ellipse((mean_X1, mean_X2), 2 * radius_small, 2 * radius_small, angle=0, fill=False, color='red', label='Малый радиус')\n",
    "ellipse_medium = plt.matplotlib.patches.Ellipse((mean_X1, mean_X2), 2 * radius_large, 2 * radius_large, angle=0, fill=False, color='green', label='Средний радиус')\n",
    "ellipse_large = plt.matplotlib.patches.Ellipse((mean_X1, mean_X2), 2 * radius_large, 2 * radius_large, angle=0, fill=False, color='blue', label='Большой радиус')\n",
    "\n",
    "# Добавляем эллипсы на график\n",
    "ax.add_patch(ellipse_small)\n",
    "ax.add_patch(ellipse_medium)\n",
    "ax.add_patch(ellipse_large)\n",
    "\n",
    "# Создаем диаграмму рассеяния\n",
    "plt.scatter(data['x1'], data['x2'], label='Диаграмма рассеяния', alpha=0.5)\n",
    "\n",
    "# Добавляем подписи\n",
    "plt.xlabel('X1')\n",
    "plt.ylabel('X2')\n",
    "plt.title('Диаграмма рассеяния и эллипсы концентрации')\n",
    "plt.legend()\n",
    "\n",
    "# Показываем график\n",
    "plt.show()\n"
   ]
  },
  {
   "attachments": {},
   "cell_type": "markdown",
   "metadata": {},
   "source": [
    "6. (0.5 балла). Повторите шаги 4–5 для первой и третьей, первой и четвертой\n",
    "переменных выборки. Как изменяются эллипсы концентрации, что можно сказать об\n",
    "их форме?"
   ]
  },
  {
   "attachments": {},
   "cell_type": "markdown",
   "metadata": {},
   "source": [
    "1) Первая и третья переменные:"
   ]
  },
  {
   "cell_type": "code",
   "execution_count": null,
   "metadata": {},
   "outputs": [],
   "source": [
    "# Оценки математических ожиданий\n",
    "mean_X1 = data['x1'].mean()\n",
    "mean_X3 = data['x3'].mean()\n",
    "\n",
    "# Оценка ковариационной матрицы\n",
    "cov_matrix = data[['x1', 'x3']].cov()\n",
    "\n",
    "# Собственные значения и собственные векторы ковариационной матрицы\n",
    "eigenvalues, eigenvectors = np.linalg.eig(cov_matrix)\n",
    "\n",
    "# Определение коэффициента для уровня доверия\n",
    "confidence_level = 2.4477  # Значение для уровня доверия 95%\n",
    "\n",
    "# Малый, средний и большой радиусы эллипсов\n",
    "radius_small = confidence_level * np.sqrt(eigenvalues[0])\n",
    "radius_large = confidence_level * np.sqrt(eigenvalues[1])\n",
    "\n",
    "# Создаем фигуру\n",
    "fig, ax = plt.subplots()\n",
    "\n",
    "# Создаем эллипсы концентрации\n",
    "ellipse_small = plt.matplotlib.patches.Ellipse((mean_X1, mean_X3), 2 * radius_small, 2 * radius_small, angle=0, fill=False, color='red', label='Малый радиус')\n",
    "ellipse_medium = plt.matplotlib.patches.Ellipse((mean_X1, mean_X3), 2 * radius_large, 2 * radius_large, angle=0, fill=False, color='green', label='Средний радиус')\n",
    "ellipse_large = plt.matplotlib.patches.Ellipse((mean_X1, mean_X3), 2 * radius_large, 2 * radius_large, angle=0, fill=False, color='blue', label='Большой радиус')\n",
    "\n",
    "# Добавляем эллипсы на график\n",
    "ax.add_patch(ellipse_small)\n",
    "ax.add_patch(ellipse_medium)\n",
    "ax.add_patch(ellipse_large)\n",
    "\n",
    "# Создаем диаграмму рассеяния\n",
    "plt.scatter(data['x1'], data['x3'], label='Диаграмма рассеяния', alpha=0.5)\n",
    "\n",
    "# Добавляем подписи\n",
    "plt.xlabel('X1')\n",
    "plt.ylabel('X3')\n",
    "plt.title('Диаграмма рассеяния и эллипсы концентрации (X1 и X3)')\n",
    "plt.legend()\n",
    "\n",
    "# Показываем график\n",
    "plt.show()\n"
   ]
  },
  {
   "attachments": {},
   "cell_type": "markdown",
   "metadata": {},
   "source": [
    "2) Первая и четвертая переменные:"
   ]
  },
  {
   "cell_type": "code",
   "execution_count": null,
   "metadata": {},
   "outputs": [],
   "source": [
    "# Оценки математических ожиданий\n",
    "mean_X1 = data['x1'].mean()\n",
    "mean_X4 = data['x4'].mean()\n",
    "\n",
    "# Оценка ковариационной матрицы\n",
    "cov_matrix = data[['x1', 'x4']].cov()\n",
    "\n",
    "# Собственные значения и собственные векторы ковариационной матрицы\n",
    "eigenvalues, eigenvectors = np.linalg.eig(cov_matrix)\n",
    "\n",
    "# Определение коэффициента для уровня доверия\n",
    "confidence_level = 2.4477  # Значение для уровня доверия 95%\n",
    "\n",
    "# Малый, средний и большой радиусы эллипсов\n",
    "radius_small = confidence_level * np.sqrt(eigenvalues[0])\n",
    "radius_large = confidence_level * np.sqrt(eigenvalues[1])\n",
    "\n",
    "# Создаем фигуру\n",
    "fig, ax = plt.subplots()\n",
    "\n",
    "# Создаем эллипсы концентрации\n",
    "ellipse_small = plt.matplotlib.patches.Ellipse((mean_X1, mean_X4), 2 * radius_small, 2 * radius_small, angle=0, fill=False, color='red', label='Малый радиус')\n",
    "ellipse_medium = plt.matplotlib.patches.Ellipse((mean_X1, mean_X4), 2 * radius_large, 2 * radius_large, angle=0, fill=False, color='green', label='Средний радиус')\n",
    "ellipse_large = plt.matplotlib.patches.Ellipse((mean_X1, mean_X4), 2 * radius_large, 2 * radius_large, angle=0, fill=False, color='blue', label='Большой радиус')\n",
    "\n",
    "# Добавляем эллипсы на график\n",
    "ax.add_patch(ellipse_small)\n",
    "ax.add_patch(ellipse_medium)\n",
    "ax.add_patch(ellipse_large)\n",
    "\n",
    "# Создаем диаграмму рассеяния\n",
    "plt.scatter(data['x1'], data['x4'], label='Диаграмма рассеяния', alpha=0.5)\n",
    "\n",
    "# Добавляем подписи\n",
    "plt.xlabel('X1')\n",
    "plt.ylabel('X4')\n",
    "plt.title('Диаграмма рассеяния и эллипсы концентрации (X1 и X4)')\n",
    "plt.legend()\n",
    "\n",
    "# Показываем график\n",
    "plt.show()\n"
   ]
  },
  {
   "cell_type": "code",
   "execution_count": null,
   "metadata": {},
   "outputs": [],
   "source": []
  },
  {
   "cell_type": "code",
   "execution_count": null,
   "metadata": {},
   "outputs": [],
   "source": [
    "from scipy.stats import shapiro, normaltest, anderson, kstest\n",
    "\n",
    "alpha = 0.05  # Уровень значимости\n",
    "\n",
    "for column in data.columns:\n",
    "    dt = data[column]\n",
    "    \n",
    "    # Тест Шапиро-Уилка\n",
    "    shapiro_stat, shapiro_p = shapiro(dt)\n",
    "    \n",
    "    # Тест Колмогорова-Смирнова\n",
    "    ks_stat, ks_p = kstest(dt, 'norm')\n",
    "    \n",
    "    # Тест Андерсона-Дарлинга\n",
    "    anderson_stat, anderson_critical_values, anderson_significance = anderson(dt, dist='norm')\n",
    "    \n",
    "    # Вы можете выбрать один или несколько из этих тестов, чтобы проверить нормальность распределения\n",
    "    # Далее принимаем решение на основе уровня значимости alpha\n",
    "    is_normal = True\n",
    "    \n",
    "    if shapiro_p < alpha:\n",
    "        print(f'{column}: Не соответствует нормальному распределению (Shapiro-Wilk), p={shapiro_p}')\n",
    "        is_normal = False\n",
    "    \n",
    "    if ks_p < alpha:\n",
    "        print(f'{column}: Не соответствует нормальному распределению (Kolmogorov-Smirnov), p={ks_p}')\n",
    "        is_normal = False\n",
    "    \n",
    "    if anderson_stat > anderson_critical_values[2]:\n",
    "        print(f'{column}: Не соответствует нормальному распределению (Anderson-Darling), statistic={anderson_stat}')\n",
    "        is_normal = False\n",
    "    \n",
    "    if is_normal:\n",
    "        print(f'{column}: Соответствует нормальному распределению')\n",
    "\n"
   ]
  },
  {
   "cell_type": "code",
   "execution_count": null,
   "metadata": {},
   "outputs": [],
   "source": [
    "import pandas as pd\n",
    "import numpy as np\n",
    "import random\n",
    "import matplotlib.pyplot as plt\n",
    "\n",
    "# Задайте параметры для случайной величины α\n",
    "p_min = 0.2\n",
    "p_max = 0.4\n",
    "\n",
    "# Генерируем случайные значения α\n",
    "n = len(data)\n",
    "alpha = [random.uniform(p_min, p_max) for _ in range(n)]\n",
    "\n",
    "# Преобразуем 'x1' и 'x2' в числовые массивы, если они не числового типа\n",
    "data['x1'] = pd.to_numeric(data['x1'], errors='coerce')\n",
    "data['x2'] = pd.to_numeric(data['x2'], errors='coerce')\n",
    "\n",
    "# Инициализируем пустой список для хранения значений x5\n",
    "x5_values = []\n",
    "\n",
    "# Вычисляем x5 для каждой строки в DataFrame\n",
    "for i, row in data.iterrows():\n",
    "    x5 = alpha[i] * row['x1'] + (1 - alpha[i]) * row['x2']\n",
    "    x5_values.append(x5)\n",
    "\n",
    "# Добавляем x5 в DataFrame\n",
    "data['x5'] = x5_values\n",
    "\n",
    "# Оценка математического ожидания и дисперсии x5\n",
    "mean_X5 = np.mean(data['x5'])\n",
    "variance_X5 = np.var(data['x5'])\n",
    "\n",
    "print(\"Математическое ожидание x5:\", mean_X5)\n",
    "print(\"Дисперсия x5:\", variance_X5)\n",
    "\n",
    "# Строим гистограмму для переменной x5\n",
    "plt.hist(data['x5'], bins=20, edgecolor='k', alpha=0.7)\n",
    "plt.xlabel('Значения x5')\n",
    "plt.ylabel('Частота')\n",
    "plt.title('Гистограмма переменной x5')\n",
    "plt.show()\n"
   ]
  },
  {
   "cell_type": "code",
   "execution_count": null,
   "metadata": {},
   "outputs": [],
   "source": []
  },
  {
   "cell_type": "code",
   "execution_count": null,
   "metadata": {},
   "outputs": [],
   "source": []
  }
 ],
 "metadata": {
  "kernelspec": {
   "display_name": "venv",
   "language": "python",
   "name": "python3"
  },
  "language_info": {
   "codemirror_mode": {
    "name": "ipython",
    "version": 3
   },
   "file_extension": ".py",
   "mimetype": "text/x-python",
   "name": "python",
   "nbconvert_exporter": "python",
   "pygments_lexer": "ipython3",
   "version": "3.11.6"
  },
  "orig_nbformat": 4
 },
 "nbformat": 4,
 "nbformat_minor": 2
}
