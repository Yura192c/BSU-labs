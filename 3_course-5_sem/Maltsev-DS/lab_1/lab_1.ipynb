{
 "cells": [
  {
   "cell_type": "code",
   "execution_count": null,
   "metadata": {
    "collapsed": true
   },
   "outputs": [],
   "source": [
    "import numpy\n",
    "import pandas as pd\n",
    "import matplotlib.pyplot as plt\n",
    "import numpy as np\n",
    "\n",
    "%matplotlib inline"
   ]
  },
  {
   "cell_type": "code",
   "execution_count": null,
   "metadata": {
    "collapsed": false
   },
   "outputs": [],
   "source": [
    "with open('var9.txt', 'r') as file:\n",
    "    data = [float(line.strip()) for line in file]"
   ]
  },
  {
   "cell_type": "code",
   "execution_count": null,
   "metadata": {
    "collapsed": false
   },
   "outputs": [],
   "source": [
    "# plt.figure(figsize=(10, 4))\n",
    "plt.figure(figsize=(10, 7))\n",
    "plt.plot(data, marker='o', linestyle='-')\n",
    "plt.title('График реализации выборки')\n",
    "plt.xlabel('Номер наблюдения')\n",
    "plt.ylabel('Значение')\n",
    "plt.grid(True)\n",
    "plt.show()"
   ]
  },
  {
   "cell_type": "markdown",
   "metadata": {
    "collapsed": false
   },
   "source": [
    "Ящик с усами"
   ]
  },
  {
   "cell_type": "code",
   "execution_count": null,
   "metadata": {
    "collapsed": false
   },
   "outputs": [],
   "source": [
    "plt.figure(figsize=(6, 4))\n",
    "plt.boxplot(data, vert=False)\n",
    "plt.title('Ящик с усами выборки')\n",
    "plt.xlabel('Значение')\n",
    "plt.grid(True)\n",
    "plt.show()"
   ]
  },
  {
   "cell_type": "markdown",
   "metadata": {
    "collapsed": false
   },
   "source": [
    "Гистограммы"
   ]
  },
  {
   "cell_type": "markdown",
   "metadata": {
    "collapsed": false
   },
   "source": [
    "Гистограмма с небольшим числом интервалов (2-3)"
   ]
  },
  {
   "cell_type": "code",
   "execution_count": null,
   "metadata": {
    "collapsed": false
   },
   "outputs": [],
   "source": [
    "plt.figure(figsize=(10, 7))\n",
    "plt.hist(data, bins=3, edgecolor='k')\n",
    "plt.title('Гистограмма (2-3 интервала)')\n",
    "plt.xlabel('Значение')\n",
    "plt.ylabel('Частота')"
   ]
  },
  {
   "cell_type": "markdown",
   "metadata": {
    "collapsed": false
   },
   "source": [
    "Гистограмма с автоматически выбранным числом интервалов"
   ]
  },
  {
   "cell_type": "code",
   "execution_count": null,
   "metadata": {
    "collapsed": false
   },
   "outputs": [],
   "source": [
    "plt.figure(figsize=(10, 7))\n",
    "plt.hist(data, edgecolor='k')\n",
    "plt.title('Гистограмма (автоматически выбранные интервалы)')\n",
    "plt.xlabel('Значение')\n",
    "plt.ylabel('Частота')"
   ]
  },
  {
   "cell_type": "markdown",
   "metadata": {
    "collapsed": false
   },
   "source": [
    "Гистограмма с большим числом интервалов (≥ 30)"
   ]
  },
  {
   "cell_type": "code",
   "execution_count": null,
   "metadata": {
    "collapsed": false
   },
   "outputs": [],
   "source": [
    "plt.figure(figsize=(10, 7))\n",
    "plt.hist(data, bins=30, edgecolor='k')\n",
    "plt.title('Гистограмма (≥ 30 интервалов)')\n",
    "plt.xlabel('Значение')\n",
    "plt.ylabel('Частота')\n"
   ]
  },
  {
   "cell_type": "code",
   "execution_count": null,
   "metadata": {
    "collapsed": false
   },
   "outputs": [],
   "source": [
    "# plt.tight_layout()\n",
    "# plt.show()"
   ]
  },
  {
   "cell_type": "markdown",
   "metadata": {
    "collapsed": false
   },
   "source": [
    "График реализации выборки: Этот график показывает, какие значения содержатся в выборке и их порядок. Мы видим разброс значений и может заметить некоторую изменчивость данных.\n",
    "\n",
    "Ящик с усами: Ящик с усами позволяет оценить центральную тенденцию данных (медиану), разброс (межквартильный размах) и выявить наличие выбросов. Если \"усы\" далеко от ящика, это может указывать на наличие выбросов. В данном случае, \"усы\" выглядят нормальными, и выбросов нет.\n",
    "\n",
    "Гистограммы: Гистограммы позволяют нам оценить форму распределения данных. В данном случае:\n",
    "\n",
    "Гистограмма с небольшим числом интервалов показывает, что данные могут быть бимодальными (имеют два пика).\n",
    "Гистограмма с автоматически выбранным числом интервалов более гладкая и показывает, что данные могут быть нормально распределены.\n",
    "Гистограмма с большим числом интервалов подтверждает гладкость распределения данных и позволяет лучше оценить форму.\n",
    "На основе этих графиков, мы можем предположить, что выборка может быть смешанным распределением, возможно, сочетанием двух нормальных распределений или распределением с двумя пиками.\n"
   ]
  },
  {
   "cell_type": "code",
   "execution_count": null,
   "metadata": {
    "collapsed": false
   },
   "outputs": [],
   "source": []
  },
  {
   "cell_type": "code",
   "execution_count": null,
   "metadata": {
    "collapsed": false
   },
   "outputs": [],
   "source": [
    "from scipy import stats\n",
    "# valid_data = data\n",
    "\n",
    "# Вычисляем числовые характеристики\n",
    "mean = np.mean(data)\n",
    "std_dev = np.std(data)\n",
    "variance = np.var(data)\n",
    "median = np.median(data)\n",
    "q1 = np.percentile(data, 25)\n",
    "q3 = np.percentile(data, 75)\n",
    "skewness = stats.skew(data)\n",
    "kurtosis = stats.kurtosis(data)\n",
    "min_value = np.min(data)\n",
    "max_value = np.max(data)\n",
    "\n",
    "# Выводим результаты\n",
    "print(f\"Среднее значение: {mean:.4f}\")\n",
    "print(f\"Стандартное отклонение: {std_dev:.4f}\")\n",
    "print(f\"Дисперсия: {variance:.4f}\")\n",
    "print(f\"Медиана: {median:.4f}\")\n",
    "print(f\"Первая квартиль (25-й процентиль): {q1:.4f}\")\n",
    "print(f\"Третья квартиль (75-й процентиль): {q3:.4f}\")\n",
    "print(f\"Коэффициент асимметрии: {skewness:.4f}\")\n",
    "print(f\"Эксцесс: {kurtosis:.4f}\")\n",
    "print(f\"Минимальное значение: {min_value:.4f}\")\n",
    "print(f\"Максимальное значение: {max_value:.4f}\")"
   ]
  },
  {
   "cell_type": "markdown",
   "metadata": {
    "collapsed": false
   },
   "source": [
    "------------Дополнительные задания"
   ]
  },
  {
   "cell_type": "markdown",
   "metadata": {
    "collapsed": false
   },
   "source": [
    "3. Проверка правила 3σ (1 балл). Вычислите, какова доля тех наблюдений,\n",
    "которые попали в интервал [𝑥𝑥̅ − 3𝑠𝑠, 𝑥𝑥̅ + 3𝑠𝑠], где 𝑥𝑥̅ – выборочное среднее, s –\n",
    "выборочная оценка стандартного отклонения. Что можно сказать про\n",
    "теоретическую вероятность P{𝜉𝜉 ∈ [µ − 3σ, µ + 3σ]}, где μ – математическое\n",
    "ожидание, σ – стандартное отклонение (cм. неравенство Чебышева)."
   ]
  },
  {
   "cell_type": "code",
   "execution_count": null,
   "metadata": {
    "collapsed": false
   },
   "outputs": [],
   "source": [
    "# Вычисление выборочного среднего и выборочного стандартного отклонения\n",
    "x = np.mean(data)\n",
    "s = np.std(data, ddof=1)  # Указываем ddof=1 для выборочной оценки стандартного отклонения\n",
    "\n",
    "# Интервал [𝑥̄ − 3𝑠, 𝑥̄ + 3𝑠]\n",
    "lower_bound = x - 3 * s\n",
    "upper_bound = x + 3 * s\n",
    "\n",
    "# Вычисление доли наблюдений, попавших в интервал\n",
    "within_3sigma = np.logical_and(data >= lower_bound, data <= upper_bound)\n",
    "fraction_within_3sigma = np.sum(within_3sigma) / len(data)\n",
    "\n",
    "print(f'Доля наблюдений в интервале [{lower_bound:.4f}, {upper_bound:.4f}]: {fraction_within_3sigma:.4f}')\n",
    "\n",
    "# Теоретическая вероятность согласно неравенству Чебышева\n",
    "probability_theoretical = 1 - 1 / (3**2)  # 3σ правило (неравенство Чебышева)\n",
    "\n",
    "print(f'Теоретическая вероятность согласно неравенству Чебышева: {probability_theoretical:.4f}')\n"
   ]
  },
  {
   "cell_type": "markdown",
   "metadata": {
    "collapsed": false
   },
   "source": [
    "4. (1 балл) По гистограмме и вычисленным числовых характеристикам\n",
    "попробуйте сделать вывод о принадлежности выборки к одному из\n",
    "следующих\n",
    "распределений:\n",
    "нормальное, экспоненциальное, Лапласа,\n",
    "Вейбулла, равномерное."
   ]
  },
  {
   "cell_type": "code",
   "execution_count": null,
   "metadata": {
    "collapsed": false
   },
   "outputs": [],
   "source": [
    "from scipy import stats\n",
    "\n",
    "# Выполняем тест Колмогорова-Смирнова для нормального распределения\n",
    "normal_fit = stats.norm(x, s)  # Параметры нормального распределения\n",
    "ks_normal, p_normal = stats.kstest(data, normal_fit.cdf)\n",
    "\n",
    "# Выполняем тест Колмогорова-Смирнова для экспоненциального распределения\n",
    "exponential_fit = stats.expon(x - 1/s)  # Параметры экспоненциального распределения\n",
    "ks_exponential, p_exponential = stats.kstest(data, exponential_fit.cdf)\n",
    "\n",
    "# Выполняем тест Колмогорова-Смирнова для Лапласова распределения\n",
    "laplace_fit = stats.laplace(x, 1/(2*s))  # Параметры Лапласова распределения\n",
    "ks_laplace, p_laplace = stats.kstest(data, laplace_fit.cdf)\n",
    "\n",
    "# Выполняем тест Колмогорова-Смирнова для Вейбулла распределения\n",
    "weibull_fit = stats.weibull_min(c=1, loc=x-s)  # Параметры Вейбулла распределения\n",
    "ks_weibull, p_weibull = stats.kstest(data, weibull_fit.cdf)\n",
    "\n",
    "# Выполняем тест Колмогорова-Смирнова для равномерного распределения\n",
    "uniform_fit = stats.uniform(loc=min(data), scale=max(data)-min(data))  # Параметры равномерного распределения\n",
    "ks_uniform, p_uniform = stats.kstest(data, uniform_fit.cdf)\n",
    "\n",
    "# Выводим результаты тестов\n",
    "print(f'KS-статистика и p-значение для нормального распределения: KS = {ks_normal:.4f}, p = {p_normal:.4f}')\n",
    "print(f'KS-статистика и p-значение для экспоненциального распределения: KS = {ks_exponential:.4f}, p = {p_exponential:.4f}')\n",
    "print(f'KS-статистика и p-значение для Лапласова распределения: KS = {ks_laplace:.4f}, p = {p_laplace:.4f}')\n",
    "print(f'KS-статистика и p-значение для Вейбулла распределения: KS = {ks_weibull:.4f}, p = {p_weibull:.4f}')\n",
    "print(f'KS-статистика и p-значение для равномерного распределения: KS = {ks_uniform:.4f}, p = {p_uniform:.4f}')\n"
   ]
  },
  {
   "cell_type": "markdown",
   "metadata": {
    "collapsed": false
   },
   "source": [
    "6. (0.5 балла) Случайным образом внести в выборку пропуски (долю\n",
    "пропущенных наблюдений выберете в диапазоне [0,2 0,5] )."
   ]
  },
  {
   "cell_type": "code",
   "execution_count": null,
   "metadata": {
    "collapsed": false
   },
   "outputs": [],
   "source": [
    "import random\n",
    "# import numpy as np\n",
    "\n",
    "# Задаем долю пропусков\n",
    "# missing_fraction = random.uniform(0.2, 0.5)\n",
    "missing_fraction = random.uniform(0.45, 0.5)\n",
    "print(missing_fraction)\n",
    "\n",
    "# Создаем маску пропусков\n",
    "mask = np.random.rand(len(data)) < missing_fraction\n",
    "print(any(mask))\n",
    "\n",
    "\n",
    "# Внесем пропуски в выборку\n",
    "data_with_missing = np.copy(data)\n",
    "data_with_missing[mask] = np.nan\n",
    "\n"
   ]
  },
  {
   "cell_type": "code",
   "execution_count": null,
   "metadata": {
    "collapsed": false
   },
   "outputs": [],
   "source": [
    "# print(mask)\n",
    "print(data_with_missing)\n",
    "# print(data)"
   ]
  },
  {
   "cell_type": "code",
   "execution_count": null,
   "metadata": {
    "collapsed": false
   },
   "outputs": [],
   "source": [
    "print(data_with_missing)"
   ]
  },
  {
   "cell_type": "code",
   "execution_count": null,
   "metadata": {
    "collapsed": false
   },
   "outputs": [],
   "source": [
    "plt.figure(figsize=(10, 7))\n",
    "plt.hist(data_with_missing, bins=30, edgecolor='k')\n",
    "plt.title('Гистограмма (≥ 30 интервалов)')\n",
    "plt.xlabel('Значение')\n",
    "plt.ylabel('Частота')"
   ]
  },
  {
   "cell_type": "markdown",
   "metadata": {
    "collapsed": false
   },
   "source": [
    "7. (1 балл) Вычислить числовые характеристики из пункта 2, игнорируя\n",
    "пропущенные значения, т.е. считайте, что у вас новая выборка, состоящая из\n",
    "элементов, которые остались непропущенными. Насколько сильно\n",
    "посчитанные числовые характеристики\n",
    "отличаются от результатов,\n",
    "полученных по полным данным? Почему?"
   ]
  },
  {
   "cell_type": "code",
   "execution_count": null,
   "metadata": {
    "collapsed": false
   },
   "outputs": [],
   "source": [
    "# Игнорируем пропущенные значения\n",
    "valid_data = data_with_missing[~np.isnan(data_with_missing)]\n",
    "print(valid_data)\n",
    "\n",
    "# Вычисляем числовые характеристики\n",
    "mean = np.mean(valid_data)\n",
    "std_dev = np.std(valid_data)\n",
    "variance = np.var(valid_data)\n",
    "median = np.median(valid_data)\n",
    "q1 = np.percentile(valid_data, 25)\n",
    "q3 = np.percentile(valid_data, 75)\n",
    "skewness = stats.skew(valid_data)\n",
    "kurtosis = stats.kurtosis(valid_data)\n",
    "min_value = np.min(valid_data)\n",
    "max_value = np.max(valid_data)\n",
    "\n",
    "#Выводим результаты\n",
    "print(f\"Среднее значение: {mean:.4f}\")\n",
    "print(f\"Стандартное отклонение: {std_dev:.4f}\")\n",
    "print(f\"Дисперсия: {variance:.4f}\")\n",
    "print(f\"Медиана: {median:.4f}\")\n",
    "print(f\"Первая квартиль (25-й процентиль): {q1:.4f}\")\n",
    "print(f\"Третья квартиль (75-й процентиль): {q3:.4f}\")\n",
    "print(f\"Коэффициент асимметрии: {skewness:.4f}\")\n",
    "print(f\"Эксцесс: {kurtosis:.4f}\")\n",
    "print(f\"Минимальное значение: {min_value:.4f}\")\n",
    "print(f\"Максимальное значение: {max_value:.4f}\")\n"
   ]
  },
  {
   "cell_type": "markdown",
   "metadata": {
    "collapsed": false
   },
   "source": [
    "Результаты могут отличаться от характеристик, вычисленных по полным данным, потому что пропущенные значения могут вносить смещение в оценки характеристик. Какие-то значения могут быть завышены или занижены, в зависимости от того, как распределены пропуски.\n",
    "\n",
    "Чем больше пропусков и чем более случайны их распределение, тем сильнее могут отличаться результаты вычислений от полных данных."
   ]
  },
  {
   "cell_type": "markdown",
   "metadata": {
    "collapsed": false
   },
   "source": [
    "8. (1 балл) Заполнить пропущенные значения средним арифметическим по\n",
    "присутствующим данным. Вычислить числовые характеристики из пункта 2.\n",
    "Насколько сильно посчитанные числовые характеристики отличаются от\n",
    "результатов, полученных в пунктах 2 и 7? Почему?"
   ]
  },
  {
   "cell_type": "code",
   "execution_count": null,
   "metadata": {
    "collapsed": false
   },
   "outputs": [],
   "source": [
    "\n",
    "# Заполняем пропущенные значения средним арифметическим\n",
    "data_filled = np.copy(data_with_missing)\n",
    "mean_without_nan = np.nanmean(data_filled)\n",
    "data_filled[np.isnan(data_filled)] = mean_without_nan\n",
    "\n",
    "# Вычисляем числовые характеристики с заполненными данными\n",
    "mean_filled = np.mean(data_filled)\n",
    "std_dev_filled = np.std(data_filled)\n",
    "variance_filled = np.var(data_filled)\n",
    "median_filled = np.median(data_filled)\n",
    "q1_filled = np.percentile(data_filled, 25)\n",
    "q3_filled = np.percentile(data_filled, 75)\n",
    "skewness_filled = stats.skew(data_filled)\n",
    "kurtosis_filled = stats.kurtosis(data_filled)\n",
    "min_value_filled = np.min(data_filled)\n",
    "max_value_filled = np.max(data_filled)\n",
    "\n",
    "# Выводим результаты\n",
    "print(f\"Среднее значение (с заполненными данными): {mean_filled:.4f}\")\n",
    "print(f\"Стандартное отклонение (с заполненными данными): {std_dev_filled:.4f}\")\n",
    "print(f\"Дисперсия (с заполненными данными): {variance_filled:.4f}\")\n",
    "print(f\"Медиана (с заполненными данными): {median_filled:.4f}\")\n",
    "print(f\"Первая квартиль (25-й процентиль, с заполненными данными): {q1_filled:.4f}\")\n",
    "print(f\"Третья квартиль (75-й процентиль, с заполненными данными): {q3_filled:.4f}\")\n",
    "print(f\"Коэффициент асимметрии (с заполненными данными): {skewness_filled:.4f}\")\n",
    "print(f\"Эксцесс (с заполненными данными): {kurtosis_filled:.4f}\")\n",
    "print(f\"Минимальное значение (с заполненными данными): {min_value_filled:.4f}\")\n",
    "print(f\"Максимальное значение (с заполненными данными): {max_value_filled:.4f}\")\n"
   ]
  },
  {
   "cell_type": "code",
   "execution_count": null,
   "metadata": {
    "collapsed": false
   },
   "outputs": [],
   "source": [
    "\n",
    "plt.figure(figsize=(10, 7))\n",
    "plt.hist(data_filled, bins=30, edgecolor='k')\n",
    "plt.title('Гистограмма (≥ 30 интервалов)')\n",
    "plt.xlabel('Значение')\n",
    "plt.ylabel('Частота')\n",
    "# print(data_with_missing)\n",
    "# print('****************')\n",
    "# print(data_filled)"
   ]
  },
  {
   "cell_type": "markdown",
   "metadata": {
    "collapsed": false
   },
   "source": [
    "Заполнение пропущенных значений средним арифметическим может привести к изменению числовых характеристик, особенно если пропущенные значения велики по сравнению с остальными данными. Это может привести к смещению среднего значения и уменьшению разброса данных. Однако это также зависит от распределения пропущенных значений и их влияния на общие характеристики выборки."
   ]
  },
  {
   "cell_type": "code",
   "execution_count": null,
   "metadata": {
    "collapsed": false
   },
   "outputs": [],
   "source": []
  }
 ],
 "metadata": {
  "kernelspec": {
   "display_name": "Python 3",
   "language": "python",
   "name": "python3"
  },
  "language_info": {
   "codemirror_mode": {
    "name": "ipython",
    "version": 3
   },
   "file_extension": ".py",
   "mimetype": "text/x-python",
   "name": "python",
   "nbconvert_exporter": "python",
   "pygments_lexer": "ipython3",
   "version": "3.11.6"
  }
 },
 "nbformat": 4,
 "nbformat_minor": 0
}
